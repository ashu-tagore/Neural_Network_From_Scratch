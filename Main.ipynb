{
 "cells": [
  {
   "cell_type": "markdown",
   "id": "e5ee9441-db17-44b4-91f3-9df97248c80b",
   "metadata": {},
   "source": [
    "<div class=\"alert alert-block alert-success\">\n",
    "<b>CODING OUR THE NEURON: 3 INPUTS</b>\n",
    "</div>"
   ]
  },
  {
   "cell_type": "code",
   "execution_count": 2,
   "id": "61ecaeee-3655-4d71-a1d5-74908d2335be",
   "metadata": {},
   "outputs": [
    {
     "name": "stdout",
     "output_type": "stream",
     "text": [
      "2.3\n"
     ]
    }
   ],
   "source": [
    "inputs = [1,2,3]\n",
    "weights = [0.2, 0.8, -0.5]\n",
    "bias = 2\n",
    "outputs = (inputs[0]*weights[0] + inputs[1]*weights[1] + inputs[2]*weights[2] + bias )\n",
    "\n",
    "print(outputs)"
   ]
  },
  {
   "cell_type": "markdown",
   "id": "aae0fd08-5b56-47dc-b360-8841bc7f53ff",
   "metadata": {},
   "source": [
    "- Weights in a neural network are used to control the influence of each input on the neuron's output, helping the network emphasize important features and make accurate decisions — higher weights mean more influence, while lower weights signify less impact."
   ]
  },
  {
   "cell_type": "markdown",
   "id": "b26cb000-e31a-486b-a865-9cecbd7738d6",
   "metadata": {},
   "source": [
    "<div class=\"alert alert-block alert-success\">\n",
    "<b>CODING THE SECOND NEURON: 4 INPUTS</b>\n",
    "</div>"
   ]
  },
  {
   "cell_type": "code",
   "execution_count": 4,
   "id": "424a15fe-d213-473a-b3de-2f8230d257e8",
   "metadata": {},
   "outputs": [
    {
     "name": "stdout",
     "output_type": "stream",
     "text": [
      "6.3\n"
     ]
    }
   ],
   "source": [
    "inputs = [1,2,3,4,]\n",
    "weights = [0.2, 0.8, -0.5, 1.0]\n",
    "bias = 2.0\n",
    "output = (inputs[0]*weights[0] +\n",
    " inputs[1]*weights[1] +\n",
    " inputs[2]*weights[2] +\n",
    " inputs[3]*weights[3] + bias)\n",
    "\n",
    "print(output)"
   ]
  },
  {
   "cell_type": "markdown",
   "id": "592013a6-f450-48d4-8746-5e06d3461731",
   "metadata": {},
   "source": [
    "<div class=\"alert alert-block alert-success\">\n",
    "<b>CODING OUR FIRST LAYER</b>\n",
    "</div>"
   ]
  },
  {
   "cell_type": "code",
   "execution_count": 4,
   "id": "6ca2af74-95be-4cc2-abc9-3e6b1d1c91f2",
   "metadata": {},
   "outputs": [
    {
     "name": "stdout",
     "output_type": "stream",
     "text": [
      "[4.8, 1.21, 2.385]\n"
     ]
    }
   ],
   "source": [
    "input = [1, 2, 3, 2.5]\n",
    "\n",
    "weights = [[0.2, 0.8, -0.5, 1],\n",
    " [0.5, -0.91, 0.26, -0.5],\n",
    " [-0.26, -0.27, 0.17, 0.87]]\n",
    "\n",
    "neuron_1_weights = weights[0]\n",
    "neuron_2_weights = weights[1]  \n",
    "neuron_3_weights = weights[2]\n",
    "\n",
    "bias = [2, 3, 0.5]\n",
    "\n",
    "output = [\n",
    "    # Output of Neuron 1\n",
    "    input[0]*neuron_1_weights[0] +\n",
    "    input[1]*neuron_1_weights[1] +\n",
    "    input[2]*neuron_1_weights[2] +\n",
    "    input[3]*neuron_1_weights[3] + bias[0],\n",
    "\n",
    "    # Output of Neuron 2\n",
    "    input[0]*neuron_2_weights[0] +\n",
    "    input[1]*neuron_2_weights[1] +\n",
    "    input[2]*neuron_2_weights[2] +\n",
    "    input[3]*neuron_2_weights[3] + bias[1],\n",
    "\n",
    "    # Output of Neuron 3\n",
    "    input[0]*neuron_3_weights[0] +\n",
    "    input[1]*neuron_3_weights[1] +\n",
    "    input[2]*neuron_3_weights[2] +\n",
    "    input[3]*neuron_3_weights[3] + bias[2]\n",
    "]\n",
    "\n",
    "print(output)"
   ]
  },
  {
   "cell_type": "code",
   "execution_count": null,
   "id": "9a837f15-7f8b-4674-8455-dc92b4bcb7e1",
   "metadata": {},
   "outputs": [],
   "source": [
    "inputs = [1, 2, 3, 2.5]\n",
    "\n",
    "# List of weights\n",
    "weights = [[0.2, 0.8, -0.5, 1],\n",
    " [0.5, -0.91, 0.26, -0.5],\n",
    " [-0.26, -0.27, 0.17, 0.87]]\n",
    "\n",
    "# List if Biases\n",
    "biases = [2, 3, 0.5]\n",
    "\n",
    "# Output of current layer\n",
    "layer_outputs = []\n",
    "\n",
    "# For each neuron\n",
    "for neuron_weights, neuron_bias in zip(weights, biases):\n",
    " # Zeroed output of given neuron\n",
    " neuron_output = 0\n",
    " # For each input and weight to the neuron\n",
    " for n_input, weight in zip(inputs, neuron_weights):\n",
    " # Multiply this input by associated weight\n",
    " # and add to the neuron's output variable\n",
    "   neuron_output += n_input*weight ## W31*X1 + W32*X2 + W33*X3 + W34*X4\n",
    "   # Add bias\n",
    " neuron_output += neuron_bias ## ## W31*X1 + W32*X2 + W33*X3 + W34*X4 + B3\n",
    " # Put neuron's result to the layer's output list\n",
    " layer_outputs.append(neuron_output)\n",
    "print(layer_outputs)"
   ]
  }
 ],
 "metadata": {
  "kernelspec": {
   "display_name": "Python 3 (ipykernel)",
   "language": "python",
   "name": "python3"
  },
  "language_info": {
   "codemirror_mode": {
    "name": "ipython",
    "version": 3
   },
   "file_extension": ".py",
   "mimetype": "text/x-python",
   "name": "python",
   "nbconvert_exporter": "python",
   "pygments_lexer": "ipython3",
   "version": "3.13.5"
  }
 },
 "nbformat": 4,
 "nbformat_minor": 5
}
